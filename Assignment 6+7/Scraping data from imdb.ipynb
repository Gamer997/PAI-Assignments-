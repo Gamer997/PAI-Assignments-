{
 "cells": [
  {
   "cell_type": "markdown",
   "metadata": {},
   "source": [
    "## Scraping TOP 100 Movies from the IMDB"
   ]
  },
  {
   "cell_type": "markdown",
   "metadata": {},
   "source": [
    "_*If you have any doubts, you may reach me out on hustlewithzidd@gmail.com*_"
   ]
  },
  {
   "cell_type": "markdown",
   "metadata": {},
   "source": [
    "_*Kindly support me by subscribing my channel and endrosing my skills in linkedIn : https://www.linkedin.com/in/sivasahukar95/*_"
   ]
  },
  {
   "cell_type": "markdown",
   "metadata": {},
   "source": []
  },
  {
   "cell_type": "code",
   "execution_count": 1,
   "metadata": {},
   "outputs": [
    {
     "ename": "SyntaxError",
     "evalue": "invalid syntax (753015939.py, line 1)",
     "output_type": "error",
     "traceback": [
      "\u001b[1;36m  Cell \u001b[1;32mIn[1], line 1\u001b[1;36m\u001b[0m\n\u001b[1;33m    Edit: Added the Description part of Movie in the Dataframe\u001b[0m\n\u001b[1;37m                ^\u001b[0m\n\u001b[1;31mSyntaxError\u001b[0m\u001b[1;31m:\u001b[0m invalid syntax\n"
     ]
    }
   ],
   "source": [
    "Edit: Added the Description part of Movie in the Dataframe "
   ]
  },
  {
   "cell_type": "code",
   "execution_count": 12,
   "metadata": {},
   "outputs": [],
   "source": [
    "#importing required Libraries\n",
    "import pandas as pd   #to create dataframe\n",
    "import requests       #to send the request to the URL\n",
    "from bs4 import BeautifulSoup #to get the content in the form of HTML\n",
    "import numpy as np  # to count the values (in our case)\n",
    "\n",
    "#assigning the URL with variable name url\n",
    "url = 'https://www.imdb.com/chart/moviemeter/?ref_=nv_mv_mpm'\n",
    "#request allow you to send HTTP request\n",
    "response = requests.get(url)\n",
    "soup = BeautifulSoup(response.content, 'html.parser')\n",
    "\n",
    "#creating an empty list, so that we can append the values\n",
    "movie_name = []\n",
    "year = []\n",
    "time = []\n",
    "rating = []\n",
    "metascore = []\n",
    "votes = []\n",
    "gross = []\n",
    "#Note: These three list are added recently, Not explained in the video\n",
    "description = []\n",
    "Director = []\n",
    "Stars = []\n",
    "\n",
    "#storing the meaningfull required data in the variable\n",
    "movie_data = soup.findAll('div', attrs= {'class': 'ipc-metadata-list-summary-item sc-59b6048d-0 cuaJSp cli-parent'})\n",
    "\n",
    "#calling one by one using for loop\n",
    "for store in movie_data:\n",
    "    name = store.h3.a.text\n",
    "    movie_name.append(name)\n",
    "    \n",
    "    year_of_release = store.h3.find('span', class_ = 'sc-479faa3c-8 bNrEFi cli-title-metadata-item').text.replace('(', '').replace(')', '')\n",
    "    year.append(year_of_release)\n",
    "    \n",
    "    runtime = store.p.find('span', class_ = 'sc-479faa3c-8 bNrEFi cli-title-metadata-item').text.replace(' min', '')\n",
    "    time.append(runtime)\n",
    "    \n",
    "    rate = store.find('div', class_ = 'inline-block ratings-imdb-rating').text.replace('\\n', '')\n",
    "    rating.append(rate)\n",
    "    \n",
    "    meta  = store.find('span', class_ = 'metascore').text.replace(' ', '') if store.find('span', class_ = 'metascore') else '^^^^^^'\n",
    "    metascore.append(meta)\n",
    "    #since, gross and votes have same attributes, that's why we had created a common variable and then used indexing\n",
    "    value = store.find_all('span', attrs = {'name': 'nv'})\n",
    "    \n",
    "    vote = value[0].text\n",
    "    votes.append(vote)\n",
    "    \n",
    "    grosses = value[1].text if len(value) >1 else '*****'\n",
    "    gross.append(grosses)\n",
    "    \n",
    "    # Description of the Movies -- Not explained in the Video, But you will figure it out. \n",
    "    describe = store.find_all('p', class_ = 'text-muted')\n",
    "    description_ = describe[1].text.replace('\\n', '') if len(describe) >1 else '*****'\n",
    "    description.append(description_)\n",
    "    \n",
    "    #Cast Details -- Scraping Director name and Stars -- Not explained in Video\n",
    "    cast = store.find(\"p\", class_ = '')\n",
    "    cast = cast.text.replace('\\n', '').split('|')\n",
    "    cast = [x.strip() for x in cast]\n",
    "    cast = [cast[i].replace(j, \"\") for i,j in enumerate([\"Director:\", \"Stars:\"])]\n",
    "    Director.append(cast[0])\n",
    "    Stars.append([x.strip() for x in cast[1].split(\",\")])\n",
    "    \n",
    "    \n",
    "#creating a dataframe using pandas library\n",
    "movie_DF = pd.DataFrame({'Name of movie': movie_name, 'Year of relase': year, 'Watchtime': time, 'Movie Rating': rating, 'Metascore': metascore, 'Votes': votes, 'Gross collection': gross, 'Description': description, \"Director\": Director, 'Star': Stars})"
   ]
  },
  {
   "cell_type": "code",
   "execution_count": 13,
   "metadata": {},
   "outputs": [],
   "source": [
    "#Saving data in Excel file:\n",
    "\n",
    "movie_DF.to_excel(\"Top_100_IMDB_Movies.xlsx\")"
   ]
  },
  {
   "cell_type": "code",
   "execution_count": 14,
   "metadata": {},
   "outputs": [
    {
     "data": {
      "text/html": [
       "<div>\n",
       "<style scoped>\n",
       "    .dataframe tbody tr th:only-of-type {\n",
       "        vertical-align: middle;\n",
       "    }\n",
       "\n",
       "    .dataframe tbody tr th {\n",
       "        vertical-align: top;\n",
       "    }\n",
       "\n",
       "    .dataframe thead th {\n",
       "        text-align: right;\n",
       "    }\n",
       "</style>\n",
       "<table border=\"1\" class=\"dataframe\">\n",
       "  <thead>\n",
       "    <tr style=\"text-align: right;\">\n",
       "      <th></th>\n",
       "      <th>Name of movie</th>\n",
       "      <th>Year of relase</th>\n",
       "      <th>Watchtime</th>\n",
       "      <th>Movie Rating</th>\n",
       "      <th>Metascore</th>\n",
       "      <th>Votes</th>\n",
       "      <th>Gross collection</th>\n",
       "      <th>Description</th>\n",
       "      <th>Director</th>\n",
       "      <th>Star</th>\n",
       "    </tr>\n",
       "  </thead>\n",
       "  <tbody>\n",
       "  </tbody>\n",
       "</table>\n",
       "</div>"
      ],
      "text/plain": [
       "Empty DataFrame\n",
       "Columns: [Name of movie, Year of relase, Watchtime, Movie Rating, Metascore, Votes, Gross collection, Description, Director, Star]\n",
       "Index: []"
      ]
     },
     "execution_count": 14,
     "metadata": {},
     "output_type": "execute_result"
    }
   ],
   "source": [
    "movie_DF.head(7)"
   ]
  },
  {
   "cell_type": "markdown",
   "metadata": {},
   "source": [
    "### If you are interested in scraping multiple pages at a time then kindly watch this...\n",
    "\n",
    "_*https://youtu.be/ieQAbrXvfwY*_"
   ]
  },
  {
   "cell_type": "markdown",
   "metadata": {},
   "source": [
    "_*Kindly support me by subscribing my channel and endrosing my skills in linkedIn : https://www.linkedin.com/in/sivasahukar95/*_"
   ]
  },
  {
   "cell_type": "code",
   "execution_count": null,
   "metadata": {},
   "outputs": [],
   "source": []
  }
 ],
 "metadata": {
  "kernelspec": {
   "display_name": "Python 3",
   "language": "python",
   "name": "python3"
  },
  "language_info": {
   "codemirror_mode": {
    "name": "ipython",
    "version": 3
   },
   "file_extension": ".py",
   "mimetype": "text/x-python",
   "name": "python",
   "nbconvert_exporter": "python",
   "pygments_lexer": "ipython3",
   "version": "3.10.7"
  }
 },
 "nbformat": 4,
 "nbformat_minor": 4
}
