{
 "cells": [
  {
   "cell_type": "code",
   "execution_count": 5,
   "metadata": {},
   "outputs": [
    {
     "name": "stdout",
     "output_type": "stream",
     "text": [
      "Empty DataFrame\n",
      "Columns: [Movie Title, Runtime, Rating, Age Restriction, Genre]\n",
      "Index: []\n"
     ]
    },
    {
     "ename": "AttributeError",
     "evalue": "Can only use .str accessor with string values!",
     "output_type": "error",
     "traceback": [
      "\u001b[1;31m---------------------------------------------------------------------------\u001b[0m",
      "\u001b[1;31mAttributeError\u001b[0m                            Traceback (most recent call last)",
      "\u001b[1;32md:\\Semester 2\\Programming For AI(python)\\Assignment 6+7\\IMDB_Question.ipynb Cell 1\u001b[0m line \u001b[0;36m5\n\u001b[0;32m     <a href='vscode-notebook-cell:/d%3A/Semester%202/Programming%20For%20AI%28python%29/Assignment%206%2B7/IMDB_Question.ipynb#W0sZmlsZQ%3D%3D?line=46'>47</a>\u001b[0m user_age_restriction \u001b[39m=\u001b[39m \u001b[39minput\u001b[39m(\u001b[39m'\u001b[39m\u001b[39mEnter your preferred age restriction: \u001b[39m\u001b[39m'\u001b[39m)\n\u001b[0;32m     <a href='vscode-notebook-cell:/d%3A/Semester%202/Programming%20For%20AI%28python%29/Assignment%206%2B7/IMDB_Question.ipynb#W0sZmlsZQ%3D%3D?line=48'>49</a>\u001b[0m \u001b[39m# Filter movies based on user preferences\u001b[39;00m\n\u001b[0;32m     <a href='vscode-notebook-cell:/d%3A/Semester%202/Programming%20For%20AI%28python%29/Assignment%206%2B7/IMDB_Question.ipynb#W0sZmlsZQ%3D%3D?line=49'>50</a>\u001b[0m filtered_movies \u001b[39m=\u001b[39m df[\n\u001b[1;32m---> <a href='vscode-notebook-cell:/d%3A/Semester%202/Programming%20For%20AI%28python%29/Assignment%206%2B7/IMDB_Question.ipynb#W0sZmlsZQ%3D%3D?line=50'>51</a>\u001b[0m     (df[\u001b[39m'\u001b[39;49m\u001b[39mGenre\u001b[39;49m\u001b[39m'\u001b[39;49m]\u001b[39m.\u001b[39;49mstr\u001b[39m.\u001b[39mlower()\u001b[39m.\u001b[39mstr\u001b[39m.\u001b[39mcontains(user_genre\u001b[39m.\u001b[39mlower()))\n\u001b[0;32m     <a href='vscode-notebook-cell:/d%3A/Semester%202/Programming%20For%20AI%28python%29/Assignment%206%2B7/IMDB_Question.ipynb#W0sZmlsZQ%3D%3D?line=51'>52</a>\u001b[0m ]\n\u001b[0;32m     <a href='vscode-notebook-cell:/d%3A/Semester%202/Programming%20For%20AI%28python%29/Assignment%206%2B7/IMDB_Question.ipynb#W0sZmlsZQ%3D%3D?line=53'>54</a>\u001b[0m \u001b[39m# Display recommendation or choose any movie if no matches\u001b[39;00m\n\u001b[0;32m     <a href='vscode-notebook-cell:/d%3A/Semester%202/Programming%20For%20AI%28python%29/Assignment%206%2B7/IMDB_Question.ipynb#W0sZmlsZQ%3D%3D?line=54'>55</a>\u001b[0m \u001b[39mif\u001b[39;00m \u001b[39mnot\u001b[39;00m filtered_movies\u001b[39m.\u001b[39mempty:\n",
      "File \u001b[1;32mc:\\Users\\Shahz\\AppData\\Local\\Programs\\Python\\Python310\\lib\\site-packages\\pandas\\core\\generic.py:5907\u001b[0m, in \u001b[0;36mNDFrame.__getattr__\u001b[1;34m(self, name)\u001b[0m\n\u001b[0;32m   5900\u001b[0m \u001b[39mif\u001b[39;00m (\n\u001b[0;32m   5901\u001b[0m     name \u001b[39mnot\u001b[39;00m \u001b[39min\u001b[39;00m \u001b[39mself\u001b[39m\u001b[39m.\u001b[39m_internal_names_set\n\u001b[0;32m   5902\u001b[0m     \u001b[39mand\u001b[39;00m name \u001b[39mnot\u001b[39;00m \u001b[39min\u001b[39;00m \u001b[39mself\u001b[39m\u001b[39m.\u001b[39m_metadata\n\u001b[0;32m   5903\u001b[0m     \u001b[39mand\u001b[39;00m name \u001b[39mnot\u001b[39;00m \u001b[39min\u001b[39;00m \u001b[39mself\u001b[39m\u001b[39m.\u001b[39m_accessors\n\u001b[0;32m   5904\u001b[0m     \u001b[39mand\u001b[39;00m \u001b[39mself\u001b[39m\u001b[39m.\u001b[39m_info_axis\u001b[39m.\u001b[39m_can_hold_identifiers_and_holds_name(name)\n\u001b[0;32m   5905\u001b[0m ):\n\u001b[0;32m   5906\u001b[0m     \u001b[39mreturn\u001b[39;00m \u001b[39mself\u001b[39m[name]\n\u001b[1;32m-> 5907\u001b[0m \u001b[39mreturn\u001b[39;00m \u001b[39mobject\u001b[39;49m\u001b[39m.\u001b[39;49m\u001b[39m__getattribute__\u001b[39;49m(\u001b[39mself\u001b[39;49m, name)\n",
      "File \u001b[1;32mc:\\Users\\Shahz\\AppData\\Local\\Programs\\Python\\Python310\\lib\\site-packages\\pandas\\core\\accessor.py:183\u001b[0m, in \u001b[0;36mCachedAccessor.__get__\u001b[1;34m(self, obj, cls)\u001b[0m\n\u001b[0;32m    180\u001b[0m \u001b[39mif\u001b[39;00m obj \u001b[39mis\u001b[39;00m \u001b[39mNone\u001b[39;00m:\n\u001b[0;32m    181\u001b[0m     \u001b[39m# we're accessing the attribute of the class, i.e., Dataset.geo\u001b[39;00m\n\u001b[0;32m    182\u001b[0m     \u001b[39mreturn\u001b[39;00m \u001b[39mself\u001b[39m\u001b[39m.\u001b[39m_accessor\n\u001b[1;32m--> 183\u001b[0m accessor_obj \u001b[39m=\u001b[39m \u001b[39mself\u001b[39;49m\u001b[39m.\u001b[39;49m_accessor(obj)\n\u001b[0;32m    184\u001b[0m \u001b[39m# Replace the property with the accessor object. Inspired by:\u001b[39;00m\n\u001b[0;32m    185\u001b[0m \u001b[39m# https://www.pydanny.com/cached-property.html\u001b[39;00m\n\u001b[0;32m    186\u001b[0m \u001b[39m# We need to use object.__setattr__ because we overwrite __setattr__ on\u001b[39;00m\n\u001b[0;32m    187\u001b[0m \u001b[39m# NDFrame\u001b[39;00m\n\u001b[0;32m    188\u001b[0m \u001b[39mobject\u001b[39m\u001b[39m.\u001b[39m\u001b[39m__setattr__\u001b[39m(obj, \u001b[39mself\u001b[39m\u001b[39m.\u001b[39m_name, accessor_obj)\n",
      "File \u001b[1;32mc:\\Users\\Shahz\\AppData\\Local\\Programs\\Python\\Python310\\lib\\site-packages\\pandas\\core\\strings\\accessor.py:182\u001b[0m, in \u001b[0;36mStringMethods.__init__\u001b[1;34m(self, data)\u001b[0m\n\u001b[0;32m    179\u001b[0m \u001b[39mdef\u001b[39;00m \u001b[39m__init__\u001b[39m(\u001b[39mself\u001b[39m, data) \u001b[39m-\u001b[39m\u001b[39m>\u001b[39m \u001b[39mNone\u001b[39;00m:\n\u001b[0;32m    180\u001b[0m     \u001b[39mfrom\u001b[39;00m \u001b[39mpandas\u001b[39;00m\u001b[39m.\u001b[39;00m\u001b[39mcore\u001b[39;00m\u001b[39m.\u001b[39;00m\u001b[39marrays\u001b[39;00m\u001b[39m.\u001b[39;00m\u001b[39mstring_\u001b[39;00m \u001b[39mimport\u001b[39;00m StringDtype\n\u001b[1;32m--> 182\u001b[0m     \u001b[39mself\u001b[39m\u001b[39m.\u001b[39m_inferred_dtype \u001b[39m=\u001b[39m \u001b[39mself\u001b[39;49m\u001b[39m.\u001b[39;49m_validate(data)\n\u001b[0;32m    183\u001b[0m     \u001b[39mself\u001b[39m\u001b[39m.\u001b[39m_is_categorical \u001b[39m=\u001b[39m is_categorical_dtype(data\u001b[39m.\u001b[39mdtype)\n\u001b[0;32m    184\u001b[0m     \u001b[39mself\u001b[39m\u001b[39m.\u001b[39m_is_string \u001b[39m=\u001b[39m \u001b[39misinstance\u001b[39m(data\u001b[39m.\u001b[39mdtype, StringDtype)\n",
      "File \u001b[1;32mc:\\Users\\Shahz\\AppData\\Local\\Programs\\Python\\Python310\\lib\\site-packages\\pandas\\core\\strings\\accessor.py:236\u001b[0m, in \u001b[0;36mStringMethods._validate\u001b[1;34m(data)\u001b[0m\n\u001b[0;32m    233\u001b[0m inferred_dtype \u001b[39m=\u001b[39m lib\u001b[39m.\u001b[39minfer_dtype(values, skipna\u001b[39m=\u001b[39m\u001b[39mTrue\u001b[39;00m)\n\u001b[0;32m    235\u001b[0m \u001b[39mif\u001b[39;00m inferred_dtype \u001b[39mnot\u001b[39;00m \u001b[39min\u001b[39;00m allowed_types:\n\u001b[1;32m--> 236\u001b[0m     \u001b[39mraise\u001b[39;00m \u001b[39mAttributeError\u001b[39;00m(\u001b[39m\"\u001b[39m\u001b[39mCan only use .str accessor with string values!\u001b[39m\u001b[39m\"\u001b[39m)\n\u001b[0;32m    237\u001b[0m \u001b[39mreturn\u001b[39;00m inferred_dtype\n",
      "\u001b[1;31mAttributeError\u001b[0m: Can only use .str accessor with string values!"
     ]
    }
   ],
   "source": [
    "import requests\n",
    "from bs4 import BeautifulSoup\n",
    "import pandas as pd\n",
    "url = 'https://www.imdb.com/chart/moviemeter/'\n",
    "response = requests.get(url)\n",
    "soup = BeautifulSoup(response.content, 'html.parser')\n",
    "movie_name = []\n",
    "runtime = []\n",
    "rating = []\n",
    "age_res = []\n",
    "genre = []\n",
    "writer = []\n",
    "director = []\n",
    "trivia = []\n",
    "\n",
    "movie_data = soup.find_all('div', class_='lister-item-content')\n",
    "for movie in movie_data:\n",
    "    name = movie.find('h3', class_='lister-item-header').a.text.strip()\n",
    "    movie_name.append(name)\n",
    "\n",
    "    time =  movie.find('span', class_ = 'lister-item-year text-muted unbold').text\n",
    "    runtime.append(time)\n",
    "\n",
    "    rate = movie.find('span', class_ = 'ipl-rating-star__rating').text\n",
    "    rating.append(rate)\n",
    "\n",
    "    age = movie.find('span', class_ = 'certificate').text\n",
    "    age_res.append(age)\n",
    "\n",
    "    gen = movie.find('span', class_ = 'genre').text.strip().replace(\"\\n\", \"\")\n",
    "    genre.append(gen)\n",
    "\n",
    "# Create a Pandas DataFrame\n",
    "df = pd.DataFrame({\n",
    "    'Movie Title': movie_name,\n",
    "    'Runtime': runtime,\n",
    "    'Rating': rating,\n",
    "    'Age Restriction': age_res,\n",
    "    'Genre': genre\n",
    "})\n",
    "print(df)\n",
    "df.set_index('Movie Title', inplace=True)\n",
    "# Prompt user for preferences\n",
    "user_genre = input('Enter your preferred genre: ')\n",
    "user_min_rating = float(input('Enter your minimum rating preference: '))\n",
    "user_max_runtime = int(input('Enter your maximum runtime preference (in minutes): '))\n",
    "user_age_restriction = input('Enter your preferred age restriction: ')\n",
    "\n",
    "# Filter movies based on user preferences\n",
    "filtered_movies = df[\n",
    "    (df['Genre'].str.lower().str.contains(user_genre.lower()))\n",
    "]\n",
    "\n",
    "# Display recommendation or choose any movie if no matches\n",
    "if not filtered_movies.empty:\n",
    "    recommendation = filtered_movies.sample(3)\n",
    "    print(\"\\nRecommended Movie:\")\n",
    "    print(recommendation[['Rating', 'Genre']])\n",
    "else:\n",
    "    print(\"No movies match your preferences. Recommending any movie from the original list.\")\n",
    "    recommendation = df.sample(1)\n",
    "    print(\"Recommended Movie:\")\n",
    "    print(recommendation[['Movie Title', 'Genre', 'Rating']])"
   ]
  }
 ],
 "metadata": {
  "kernelspec": {
   "display_name": "Python 3",
   "language": "python",
   "name": "python3"
  },
  "language_info": {
   "codemirror_mode": {
    "name": "ipython",
    "version": 3
   },
   "file_extension": ".py",
   "mimetype": "text/x-python",
   "name": "python",
   "nbconvert_exporter": "python",
   "pygments_lexer": "ipython3",
   "version": "3.10.7"
  }
 },
 "nbformat": 4,
 "nbformat_minor": 2
}
