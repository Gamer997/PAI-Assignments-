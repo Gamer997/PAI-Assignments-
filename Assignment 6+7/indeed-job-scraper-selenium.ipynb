{
 "cells": [
  {
   "cell_type": "markdown",
   "metadata": {},
   "source": [
    "# Indeed Job Scraper - Selenium Version"
   ]
  },
  {
   "cell_type": "code",
   "execution_count": 10,
   "metadata": {},
   "outputs": [
    {
     "ename": "ImportError",
     "evalue": "cannot import name 'ErrorInResponseException' from 'selenium.common.exceptions' (c:\\Users\\Shahz\\AppData\\Local\\Programs\\Python\\Python310\\lib\\site-packages\\selenium\\common\\exceptions.py)",
     "output_type": "error",
     "traceback": [
      "\u001b[1;31m---------------------------------------------------------------------------\u001b[0m",
      "\u001b[1;31mImportError\u001b[0m                               Traceback (most recent call last)",
      "\u001b[1;32md:\\Semester 2\\Programming For AI(python)\\Assignment 6+7\\indeed-job-scraper-selenium.ipynb Cell 2\u001b[0m line \u001b[0;36m3\n\u001b[0;32m      <a href='vscode-notebook-cell:/d%3A/Semester%202/Programming%20For%20AI%28python%29/Assignment%206%2B7/indeed-job-scraper-selenium.ipynb#W1sZmlsZQ%3D%3D?line=0'>1</a>\u001b[0m \u001b[39mimport\u001b[39;00m \u001b[39mcsv\u001b[39;00m\n\u001b[0;32m      <a href='vscode-notebook-cell:/d%3A/Semester%202/Programming%20For%20AI%28python%29/Assignment%206%2B7/indeed-job-scraper-selenium.ipynb#W1sZmlsZQ%3D%3D?line=1'>2</a>\u001b[0m \u001b[39mfrom\u001b[39;00m \u001b[39mdatetime\u001b[39;00m \u001b[39mimport\u001b[39;00m datetime\n\u001b[1;32m----> <a href='vscode-notebook-cell:/d%3A/Semester%202/Programming%20For%20AI%28python%29/Assignment%206%2B7/indeed-job-scraper-selenium.ipynb#W1sZmlsZQ%3D%3D?line=2'>3</a>\u001b[0m \u001b[39mfrom\u001b[39;00m \u001b[39mmsedge\u001b[39;00m\u001b[39m.\u001b[39;00m\u001b[39mselenium_tools\u001b[39;00m \u001b[39mimport\u001b[39;00m Edge, EdgeOptions\n\u001b[0;32m      <a href='vscode-notebook-cell:/d%3A/Semester%202/Programming%20For%20AI%28python%29/Assignment%206%2B7/indeed-job-scraper-selenium.ipynb#W1sZmlsZQ%3D%3D?line=3'>4</a>\u001b[0m \u001b[39mfrom\u001b[39;00m \u001b[39mselenium\u001b[39;00m\u001b[39m.\u001b[39;00m\u001b[39mcommon\u001b[39;00m\u001b[39m.\u001b[39;00m\u001b[39mexceptions\u001b[39;00m \u001b[39mimport\u001b[39;00m NoSuchElementException, ElementNotInteractableException\n",
      "File \u001b[1;32mc:\\Users\\Shahz\\AppData\\Local\\Programs\\Python\\Python310\\lib\\site-packages\\msedge\\selenium_tools\\__init__.py:21\u001b[0m\n\u001b[0;32m      1\u001b[0m \u001b[39m# Portions Copyright Microsoft 2020\u001b[39;00m\n\u001b[0;32m      2\u001b[0m \u001b[39m# Licensed under the Apache License, Version 2.0\u001b[39;00m\n\u001b[0;32m      3\u001b[0m \u001b[39m#\u001b[39;00m\n\u001b[1;32m   (...)\u001b[0m\n\u001b[0;32m     18\u001b[0m \u001b[39m# specific language governing permissions and limitations\u001b[39;00m\n\u001b[0;32m     19\u001b[0m \u001b[39m# under the License.\u001b[39;00m\n\u001b[1;32m---> 21\u001b[0m \u001b[39mfrom\u001b[39;00m \u001b[39m.\u001b[39;00m\u001b[39mwebdriver\u001b[39;00m \u001b[39mimport\u001b[39;00m WebDriver \u001b[39mas\u001b[39;00m Edge  \n\u001b[0;32m     22\u001b[0m \u001b[39mfrom\u001b[39;00m \u001b[39m.\u001b[39;00m\u001b[39mservice\u001b[39;00m \u001b[39mimport\u001b[39;00m Service \u001b[39mas\u001b[39;00m EdgeService\n\u001b[0;32m     23\u001b[0m \u001b[39mfrom\u001b[39;00m \u001b[39m.\u001b[39;00m\u001b[39moptions\u001b[39;00m \u001b[39mimport\u001b[39;00m Options \u001b[39mas\u001b[39;00m EdgeOptions\n",
      "File \u001b[1;32mc:\\Users\\Shahz\\AppData\\Local\\Programs\\Python\\Python310\\lib\\site-packages\\msedge\\selenium_tools\\webdriver.py:23\u001b[0m\n\u001b[0;32m     20\u001b[0m \u001b[39mimport\u001b[39;00m \u001b[39mwarnings\u001b[39;00m\n\u001b[0;32m     22\u001b[0m \u001b[39mfrom\u001b[39;00m \u001b[39mselenium\u001b[39;00m\u001b[39m.\u001b[39;00m\u001b[39mwebdriver\u001b[39;00m\u001b[39m.\u001b[39;00m\u001b[39mcommon\u001b[39;00m \u001b[39mimport\u001b[39;00m utils\n\u001b[1;32m---> 23\u001b[0m \u001b[39mfrom\u001b[39;00m \u001b[39mselenium\u001b[39;00m\u001b[39m.\u001b[39;00m\u001b[39mwebdriver\u001b[39;00m\u001b[39m.\u001b[39;00m\u001b[39mremote\u001b[39;00m\u001b[39m.\u001b[39;00m\u001b[39mwebdriver\u001b[39;00m \u001b[39mimport\u001b[39;00m WebDriver \u001b[39mas\u001b[39;00m RemoteWebDriver\n\u001b[0;32m     24\u001b[0m \u001b[39mfrom\u001b[39;00m \u001b[39mselenium\u001b[39;00m\u001b[39m.\u001b[39;00m\u001b[39mwebdriver\u001b[39;00m\u001b[39m.\u001b[39;00m\u001b[39mremote\u001b[39;00m\u001b[39m.\u001b[39;00m\u001b[39mremote_connection\u001b[39;00m \u001b[39mimport\u001b[39;00m RemoteConnection\n\u001b[0;32m     25\u001b[0m \u001b[39mfrom\u001b[39;00m \u001b[39m.\u001b[39;00m\u001b[39mremote_connection\u001b[39;00m \u001b[39mimport\u001b[39;00m EdgeRemoteConnection\n",
      "File \u001b[1;32mc:\\Users\\Shahz\\AppData\\Local\\Programs\\Python\\Python310\\lib\\site-packages\\selenium\\webdriver\\remote\\webdriver.py:27\u001b[0m\n\u001b[0;32m     25\u001b[0m \u001b[39mfrom\u001b[39;00m \u001b[39m.\u001b[39;00m\u001b[39mcommand\u001b[39;00m \u001b[39mimport\u001b[39;00m Command\n\u001b[0;32m     26\u001b[0m \u001b[39mfrom\u001b[39;00m \u001b[39m.\u001b[39;00m\u001b[39mwebelement\u001b[39;00m \u001b[39mimport\u001b[39;00m WebElement\n\u001b[1;32m---> 27\u001b[0m \u001b[39mfrom\u001b[39;00m \u001b[39m.\u001b[39;00m\u001b[39mremote_connection\u001b[39;00m \u001b[39mimport\u001b[39;00m RemoteConnection\n\u001b[0;32m     28\u001b[0m \u001b[39mfrom\u001b[39;00m \u001b[39m.\u001b[39;00m\u001b[39merrorhandler\u001b[39;00m \u001b[39mimport\u001b[39;00m ErrorHandler\n\u001b[0;32m     29\u001b[0m \u001b[39mfrom\u001b[39;00m \u001b[39m.\u001b[39;00m\u001b[39mswitch_to\u001b[39;00m \u001b[39mimport\u001b[39;00m SwitchTo\n",
      "File \u001b[1;32mc:\\Users\\Shahz\\AppData\\Local\\Programs\\Python\\Python310\\lib\\site-packages\\selenium\\webdriver\\remote\\remote_connection.py:34\u001b[0m\n\u001b[0;32m     32\u001b[0m \u001b[39mfrom\u001b[39;00m \u001b[39mselenium\u001b[39;00m \u001b[39mimport\u001b[39;00m __version__\n\u001b[0;32m     33\u001b[0m \u001b[39mfrom\u001b[39;00m \u001b[39m.\u001b[39;00m\u001b[39mcommand\u001b[39;00m \u001b[39mimport\u001b[39;00m Command\n\u001b[1;32m---> 34\u001b[0m \u001b[39mfrom\u001b[39;00m \u001b[39m.\u001b[39;00m\u001b[39merrorhandler\u001b[39;00m \u001b[39mimport\u001b[39;00m ErrorCode\n\u001b[0;32m     35\u001b[0m \u001b[39mfrom\u001b[39;00m \u001b[39m.\u001b[39;00m \u001b[39mimport\u001b[39;00m utils\n\u001b[0;32m     37\u001b[0m LOGGER \u001b[39m=\u001b[39m logging\u001b[39m.\u001b[39mgetLogger(\u001b[39m__name__\u001b[39m)\n",
      "File \u001b[1;32mc:\\Users\\Shahz\\AppData\\Local\\Programs\\Python\\Python310\\lib\\site-packages\\selenium\\webdriver\\remote\\errorhandler.py:18\u001b[0m\n\u001b[0;32m      1\u001b[0m \u001b[39m# Licensed to the Software Freedom Conservancy (SFC) under one\u001b[39;00m\n\u001b[0;32m      2\u001b[0m \u001b[39m# or more contributor license agreements.  See the NOTICE file\u001b[39;00m\n\u001b[0;32m      3\u001b[0m \u001b[39m# distributed with this work for additional information\u001b[39;00m\n\u001b[1;32m   (...)\u001b[0m\n\u001b[0;32m     15\u001b[0m \u001b[39m# specific language governing permissions and limitations\u001b[39;00m\n\u001b[0;32m     16\u001b[0m \u001b[39m# under the License.\u001b[39;00m\n\u001b[1;32m---> 18\u001b[0m \u001b[39mfrom\u001b[39;00m \u001b[39mselenium\u001b[39;00m\u001b[39m.\u001b[39;00m\u001b[39mcommon\u001b[39;00m\u001b[39m.\u001b[39;00m\u001b[39mexceptions\u001b[39;00m \u001b[39mimport\u001b[39;00m (ElementClickInterceptedException,\n\u001b[0;32m     19\u001b[0m                                         ElementNotInteractableException,\n\u001b[0;32m     20\u001b[0m                                         ElementNotSelectableException,\n\u001b[0;32m     21\u001b[0m                                         ElementNotVisibleException,\n\u001b[0;32m     22\u001b[0m                                         ErrorInResponseException,\n\u001b[0;32m     23\u001b[0m                                         InsecureCertificateException,\n\u001b[0;32m     24\u001b[0m                                         InvalidCoordinatesException,\n\u001b[0;32m     25\u001b[0m                                         InvalidElementStateException,\n\u001b[0;32m     26\u001b[0m                                         InvalidSessionIdException,\n\u001b[0;32m     27\u001b[0m                                         InvalidSelectorException,\n\u001b[0;32m     28\u001b[0m                                         ImeNotAvailableException,\n\u001b[0;32m     29\u001b[0m                                         ImeActivationFailedException,\n\u001b[0;32m     30\u001b[0m                                         InvalidArgumentException,\n\u001b[0;32m     31\u001b[0m                                         InvalidCookieDomainException,\n\u001b[0;32m     32\u001b[0m                                         JavascriptException,\n\u001b[0;32m     33\u001b[0m                                         MoveTargetOutOfBoundsException,\n\u001b[0;32m     34\u001b[0m                                         NoSuchCookieException,\n\u001b[0;32m     35\u001b[0m                                         NoSuchElementException,\n\u001b[0;32m     36\u001b[0m                                         NoSuchFrameException,\n\u001b[0;32m     37\u001b[0m                                         NoSuchWindowException,\n\u001b[0;32m     38\u001b[0m                                         NoAlertPresentException,\n\u001b[0;32m     39\u001b[0m                                         ScreenshotException,\n\u001b[0;32m     40\u001b[0m                                         SessionNotCreatedException,\n\u001b[0;32m     41\u001b[0m                                         StaleElementReferenceException,\n\u001b[0;32m     42\u001b[0m                                         TimeoutException,\n\u001b[0;32m     43\u001b[0m                                         UnableToSetCookieException,\n\u001b[0;32m     44\u001b[0m                                         UnexpectedAlertPresentException,\n\u001b[0;32m     45\u001b[0m                                         UnknownMethodException,\n\u001b[0;32m     46\u001b[0m                                         WebDriverException)\n\u001b[0;32m     48\u001b[0m \u001b[39mtry\u001b[39;00m:\n\u001b[0;32m     49\u001b[0m     basestring\n",
      "\u001b[1;31mImportError\u001b[0m: cannot import name 'ErrorInResponseException' from 'selenium.common.exceptions' (c:\\Users\\Shahz\\AppData\\Local\\Programs\\Python\\Python310\\lib\\site-packages\\selenium\\common\\exceptions.py)"
     ]
    }
   ],
   "source": [
    "import csv\n",
    "from datetime import datetime\n",
    "from msedge.selenium_tools import Edge, EdgeOptions\n",
    "from selenium.common.exceptions import NoSuchElementException, ElementNotInteractableException"
   ]
  },
  {
   "cell_type": "code",
   "execution_count": 3,
   "metadata": {},
   "outputs": [],
   "source": [
    "def get_url(position, location):\n",
    "    \"\"\"Generate url from position and location\"\"\"\n",
    "    template = 'https://www.indeed.com/jobs?q={}&l={}'\n",
    "    position = position.replace(' ', '+')\n",
    "    location = location.replace(' ', '+')\n",
    "    url = template.format(position, location)\n",
    "    return url\n"
   ]
  },
  {
   "cell_type": "code",
   "execution_count": 4,
   "metadata": {},
   "outputs": [],
   "source": [
    "def save_data_to_file(records):\n",
    "    \"\"\"Save data to csv file\"\"\"\n",
    "    with open('results.csv', 'w', newline='', encoding='utf-8') as f:\n",
    "        writer = csv.writer(f)\n",
    "        writer.writerow(['JobTitle', 'Company', 'Location', 'PostDate', 'ExtractDate', 'Summary', 'JobUrl'])\n",
    "        writer.writerows(records)"
   ]
  },
  {
   "cell_type": "code",
   "execution_count": 5,
   "metadata": {},
   "outputs": [],
   "source": [
    "def get_record(card):\n",
    "    \"\"\"Extract job data from single card\"\"\"\n",
    "    job_title = card.find_element_by_class_name('jobtitle').text\n",
    "    company = card.find_element_by_class_name('company').text\n",
    "    location = card.find_element_by_class_name('location').text\n",
    "    post_date = card.find_element_by_class_name('date').text\n",
    "    extract_date = datetime.today().strftime('%Y-%m-%d')\n",
    "    summary = card.find_element_by_class_name('summary').text\n",
    "    job_url = card.find_element_by_class_name('jobtitle').get_attribute('href')\n",
    "    return (job_title, company, location, post_date, extract_date, summary, job_url)"
   ]
  },
  {
   "cell_type": "code",
   "execution_count": 6,
   "metadata": {},
   "outputs": [],
   "source": [
    "def get_page_records(cards, job_list, url_set):\n",
    "    \"\"\"Extract all cards from the page\"\"\"\n",
    "    for card in cards:\n",
    "        record = get_record(card)\n",
    "        # add if job title exists and not duplicate\n",
    "        if record[0] and record[-1] not in url_set:\n",
    "            job_list.append(record)\n",
    "            url_set.add(record[-1])"
   ]
  },
  {
   "cell_type": "code",
   "execution_count": 7,
   "metadata": {},
   "outputs": [],
   "source": [
    "def main(position, location):\n",
    "    \"\"\"Run the main program routine\"\"\"\n",
    "    scraped_jobs = []\n",
    "    scraped_urls = set()\n",
    "    \n",
    "    url = get_url(position, location)\n",
    "    \n",
    "    # setup web driver\n",
    "    options = EdgeOptions()\n",
    "    options.use_chromium = True\n",
    "    driver = Edge(options=options)\n",
    "    driver.implicitly_wait(5)\n",
    "    driver.get(url)        \n",
    "    \n",
    "    # extract the job data\n",
    "    while True:\n",
    "        cards = driver.find_elements_by_class_name('jobsearch-SerpJobCard')\n",
    "        get_page_records(cards, scraped_jobs, scraped_urls)\n",
    "        try:\n",
    "            driver.find_element_by_xpath('//a[@aria-label=\"Next\"]').click()\n",
    "        except NoSuchElementException:\n",
    "            break\n",
    "        except ElementNotInteractableException:\n",
    "            driver.find_element_by_id('popover-x').click()  # to handle job notification popup\n",
    "            get_page_records(cards, scraped_jobs, scraped_urls)\n",
    "            continue\n",
    "    \n",
    "    # close driver and save records\n",
    "    driver.quit()\n",
    "    save_data_to_file(scraped_jobs)"
   ]
  },
  {
   "cell_type": "code",
   "execution_count": 11,
   "metadata": {},
   "outputs": [
    {
     "ename": "NameError",
     "evalue": "name 'EdgeOptions' is not defined",
     "output_type": "error",
     "traceback": [
      "\u001b[1;31m---------------------------------------------------------------------------\u001b[0m",
      "\u001b[1;31mNameError\u001b[0m                                 Traceback (most recent call last)",
      "\u001b[1;32md:\\Semester 2\\Programming For AI(python)\\Assignment 6+7\\indeed-job-scraper-selenium.ipynb Cell 8\u001b[0m line \u001b[0;36m2\n\u001b[0;32m      <a href='vscode-notebook-cell:/d%3A/Semester%202/Programming%20For%20AI%28python%29/Assignment%206%2B7/indeed-job-scraper-selenium.ipynb#X10sZmlsZQ%3D%3D?line=0'>1</a>\u001b[0m \u001b[39m# run a search\u001b[39;00m\n\u001b[1;32m----> <a href='vscode-notebook-cell:/d%3A/Semester%202/Programming%20For%20AI%28python%29/Assignment%206%2B7/indeed-job-scraper-selenium.ipynb#X10sZmlsZQ%3D%3D?line=1'>2</a>\u001b[0m main(\u001b[39m'\u001b[39;49m\u001b[39mpython developer\u001b[39;49m\u001b[39m'\u001b[39;49m, \u001b[39m'\u001b[39;49m\u001b[39mcharlotte nc\u001b[39;49m\u001b[39m'\u001b[39;49m)\n",
      "\u001b[1;32md:\\Semester 2\\Programming For AI(python)\\Assignment 6+7\\indeed-job-scraper-selenium.ipynb Cell 8\u001b[0m line \u001b[0;36m9\n\u001b[0;32m      <a href='vscode-notebook-cell:/d%3A/Semester%202/Programming%20For%20AI%28python%29/Assignment%206%2B7/indeed-job-scraper-selenium.ipynb#X10sZmlsZQ%3D%3D?line=5'>6</a>\u001b[0m url \u001b[39m=\u001b[39m get_url(position, location)\n\u001b[0;32m      <a href='vscode-notebook-cell:/d%3A/Semester%202/Programming%20For%20AI%28python%29/Assignment%206%2B7/indeed-job-scraper-selenium.ipynb#X10sZmlsZQ%3D%3D?line=7'>8</a>\u001b[0m \u001b[39m# setup web driver\u001b[39;00m\n\u001b[1;32m----> <a href='vscode-notebook-cell:/d%3A/Semester%202/Programming%20For%20AI%28python%29/Assignment%206%2B7/indeed-job-scraper-selenium.ipynb#X10sZmlsZQ%3D%3D?line=8'>9</a>\u001b[0m options \u001b[39m=\u001b[39m EdgeOptions()\n\u001b[0;32m     <a href='vscode-notebook-cell:/d%3A/Semester%202/Programming%20For%20AI%28python%29/Assignment%206%2B7/indeed-job-scraper-selenium.ipynb#X10sZmlsZQ%3D%3D?line=9'>10</a>\u001b[0m options\u001b[39m.\u001b[39muse_chromium \u001b[39m=\u001b[39m \u001b[39mTrue\u001b[39;00m\n\u001b[0;32m     <a href='vscode-notebook-cell:/d%3A/Semester%202/Programming%20For%20AI%28python%29/Assignment%206%2B7/indeed-job-scraper-selenium.ipynb#X10sZmlsZQ%3D%3D?line=10'>11</a>\u001b[0m driver \u001b[39m=\u001b[39m Edge(options\u001b[39m=\u001b[39moptions)\n",
      "\u001b[1;31mNameError\u001b[0m: name 'EdgeOptions' is not defined"
     ]
    }
   ],
   "source": [
    "# run a search\n",
    "main('python developer', 'charlotte nc')"
   ]
  }
 ],
 "metadata": {
  "kernelspec": {
   "display_name": "Python 3",
   "language": "python",
   "name": "python3"
  },
  "language_info": {
   "codemirror_mode": {
    "name": "ipython",
    "version": 3
   },
   "file_extension": ".py",
   "mimetype": "text/x-python",
   "name": "python",
   "nbconvert_exporter": "python",
   "pygments_lexer": "ipython3",
   "version": "3.10.7"
  }
 },
 "nbformat": 4,
 "nbformat_minor": 4
}
