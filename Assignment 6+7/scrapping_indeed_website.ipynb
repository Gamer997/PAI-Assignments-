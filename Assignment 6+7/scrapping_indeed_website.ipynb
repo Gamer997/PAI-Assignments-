{
 "cells": [
  {
   "cell_type": "code",
   "execution_count": 29,
   "metadata": {},
   "outputs": [
    {
     "name": "stdout",
     "output_type": "stream",
     "text": [
      "Error: Unable to access the page. Status code: 403\n",
      "Error: Unable to access the page. Status code: 403\n",
      "Error: Unable to access the page. Status code: 403\n",
      "None\n"
     ]
    }
   ],
   "source": [
    "import requests\n",
    "from bs4 import BeautifulSoup\n",
    "\n",
    "def extract(page):\n",
    "    user_agent = {'User-Agent': 'Mozilla/5.0 (Windows NT 10.0; Win64; x64) AppleWebKit/537.36 (KHTML, like Gecko) Chrome/119.0.0.0 Safari/537.36'}\n",
    "    url = 'https://'\n",
    "    r = requests.get(url, user_agent)\n",
    "    return r.status_code\n",
    "\n",
    "#     soup = BeautifulSoup(r.content, 'html.parser')\n",
    "#     return soup\n",
    "# def transform(soup):\n",
    "#     divs = soup.find_all('div')\n",
    "#     print(divs)\n",
    "#     return len(divs)\n",
    "c = extract(0)\n",
    "print(c)\n",
    "# print(transform(c))"
   ]
  },
  {
   "cell_type": "code",
   "execution_count": 14,
   "metadata": {},
   "outputs": [
    {
     "ename": "WebDriverException",
     "evalue": "Message: unknown error: result.webdriverValue.value list is missing or empty in Runtime.callFunctionOn response\n  (Session info: chrome=119.0.6045.160)\nStacktrace:\n\tGetHandleVerifier [0x00007FF78FCD8EF2+54786]\n\t(No symbol) [0x00007FF78FC45612]\n\t(No symbol) [0x00007FF78FAFA64B]\n\t(No symbol) [0x00007FF78FAFEEC1]\n\t(No symbol) [0x00007FF78FB0115F]\n\t(No symbol) [0x00007FF78FB01250]\n\t(No symbol) [0x00007FF78FB3B424]\n\t(No symbol) [0x00007FF78FB3B91C]\n\t(No symbol) [0x00007FF78FB76DB7]\n\t(No symbol) [0x00007FF78FB5BEAF]\n\t(No symbol) [0x00007FF78FB74D02]\n\t(No symbol) [0x00007FF78FB5BC43]\n\t(No symbol) [0x00007FF78FB30941]\n\t(No symbol) [0x00007FF78FB31B84]\n\tGetHandleVerifier [0x00007FF790027F52+3524194]\n\tGetHandleVerifier [0x00007FF79007D800+3874576]\n\tGetHandleVerifier [0x00007FF790075D7F+3843215]\n\tGetHandleVerifier [0x00007FF78FD75086+694166]\n\t(No symbol) [0x00007FF78FC50A88]\n\t(No symbol) [0x00007FF78FC4CA94]\n\t(No symbol) [0x00007FF78FC4CBC2]\n\t(No symbol) [0x00007FF78FC3CC83]\n\tBaseThreadInitThunk [0x00007FFFD7DF257D+29]\n\tRtlUserThreadStart [0x00007FFFD9C4AA58+40]\n",
     "output_type": "error",
     "traceback": [
      "\u001b[1;31m---------------------------------------------------------------------------\u001b[0m",
      "\u001b[1;31mWebDriverException\u001b[0m                        Traceback (most recent call last)",
      "\u001b[1;32md:\\Semester 2\\Programming For AI(python)\\Assignment 6+7\\scrapping_indeed_website.ipynb Cell 2\u001b[0m line \u001b[0;36m4\n\u001b[0;32m     <a href='vscode-notebook-cell:/d%3A/Semester%202/Programming%20For%20AI%28python%29/Assignment%206%2B7/scrapping_indeed_website.ipynb#W1sZmlsZQ%3D%3D?line=36'>37</a>\u001b[0m driver \u001b[39m=\u001b[39m extract(\u001b[39m0\u001b[39m)\n\u001b[0;32m     <a href='vscode-notebook-cell:/d%3A/Semester%202/Programming%20For%20AI%28python%29/Assignment%206%2B7/scrapping_indeed_website.ipynb#W1sZmlsZQ%3D%3D?line=38'>39</a>\u001b[0m \u001b[39m# Transform data using Selenium\u001b[39;00m\n\u001b[1;32m---> <a href='vscode-notebook-cell:/d%3A/Semester%202/Programming%20For%20AI%28python%29/Assignment%206%2B7/scrapping_indeed_website.ipynb#W1sZmlsZQ%3D%3D?line=39'>40</a>\u001b[0m \u001b[39mprint\u001b[39m(transform(driver))\n\u001b[0;32m     <a href='vscode-notebook-cell:/d%3A/Semester%202/Programming%20For%20AI%28python%29/Assignment%206%2B7/scrapping_indeed_website.ipynb#W1sZmlsZQ%3D%3D?line=41'>42</a>\u001b[0m \u001b[39m# Close the browser window\u001b[39;00m\n\u001b[0;32m     <a href='vscode-notebook-cell:/d%3A/Semester%202/Programming%20For%20AI%28python%29/Assignment%206%2B7/scrapping_indeed_website.ipynb#W1sZmlsZQ%3D%3D?line=42'>43</a>\u001b[0m driver\u001b[39m.\u001b[39mquit()\n",
      "\u001b[1;32md:\\Semester 2\\Programming For AI(python)\\Assignment 6+7\\scrapping_indeed_website.ipynb Cell 2\u001b[0m line \u001b[0;36m2\n\u001b[0;32m     <a href='vscode-notebook-cell:/d%3A/Semester%202/Programming%20For%20AI%28python%29/Assignment%206%2B7/scrapping_indeed_website.ipynb#W1sZmlsZQ%3D%3D?line=26'>27</a>\u001b[0m \u001b[39mdef\u001b[39;00m \u001b[39mtransform\u001b[39m(driver):\n\u001b[0;32m     <a href='vscode-notebook-cell:/d%3A/Semester%202/Programming%20For%20AI%28python%29/Assignment%206%2B7/scrapping_indeed_website.ipynb#W1sZmlsZQ%3D%3D?line=27'>28</a>\u001b[0m     \u001b[39m# Find elements with the class name \"job_seen_beacon\" within div tags\u001b[39;00m\n\u001b[1;32m---> <a href='vscode-notebook-cell:/d%3A/Semester%202/Programming%20For%20AI%28python%29/Assignment%206%2B7/scrapping_indeed_website.ipynb#W1sZmlsZQ%3D%3D?line=28'>29</a>\u001b[0m     elements \u001b[39m=\u001b[39m driver\u001b[39m.\u001b[39;49mfind_elements(By\u001b[39m.\u001b[39;49mXPATH, \u001b[39m'\u001b[39;49m\u001b[39m/html/body/main/div/div[1]/div/div[5]/div[1]/div[5]/div/ul/li[1]/div/div[1]/div/div[1]/div\u001b[39;49m\u001b[39m'\u001b[39;49m)\n\u001b[0;32m     <a href='vscode-notebook-cell:/d%3A/Semester%202/Programming%20For%20AI%28python%29/Assignment%206%2B7/scrapping_indeed_website.ipynb#W1sZmlsZQ%3D%3D?line=30'>31</a>\u001b[0m     \u001b[39mfor\u001b[39;00m element \u001b[39min\u001b[39;00m elements:\n\u001b[0;32m     <a href='vscode-notebook-cell:/d%3A/Semester%202/Programming%20For%20AI%28python%29/Assignment%206%2B7/scrapping_indeed_website.ipynb#W1sZmlsZQ%3D%3D?line=31'>32</a>\u001b[0m         \u001b[39mprint\u001b[39m(element\u001b[39m.\u001b[39mtext)\n",
      "File \u001b[1;32mc:\\Users\\Shahz\\AppData\\Local\\Programs\\Python\\Python310\\lib\\site-packages\\selenium\\webdriver\\remote\\webdriver.py:770\u001b[0m, in \u001b[0;36mWebDriver.find_elements\u001b[1;34m(self, by, value)\u001b[0m\n\u001b[0;32m    766\u001b[0m     value \u001b[39m=\u001b[39m \u001b[39mf\u001b[39m\u001b[39m'\u001b[39m\u001b[39m[name=\u001b[39m\u001b[39m\"\u001b[39m\u001b[39m{\u001b[39;00mvalue\u001b[39m}\u001b[39;00m\u001b[39m\"\u001b[39m\u001b[39m]\u001b[39m\u001b[39m'\u001b[39m\n\u001b[0;32m    768\u001b[0m \u001b[39m# Return empty list if driver returns null\u001b[39;00m\n\u001b[0;32m    769\u001b[0m \u001b[39m# See https://github.com/SeleniumHQ/selenium/issues/4555\u001b[39;00m\n\u001b[1;32m--> 770\u001b[0m \u001b[39mreturn\u001b[39;00m \u001b[39mself\u001b[39;49m\u001b[39m.\u001b[39;49mexecute(Command\u001b[39m.\u001b[39;49mFIND_ELEMENTS, {\u001b[39m\"\u001b[39;49m\u001b[39musing\u001b[39;49m\u001b[39m\"\u001b[39;49m: by, \u001b[39m\"\u001b[39;49m\u001b[39mvalue\u001b[39;49m\u001b[39m\"\u001b[39;49m: value})[\u001b[39m\"\u001b[39m\u001b[39mvalue\u001b[39m\u001b[39m\"\u001b[39m] \u001b[39mor\u001b[39;00m []\n",
      "File \u001b[1;32mc:\\Users\\Shahz\\AppData\\Local\\Programs\\Python\\Python310\\lib\\site-packages\\selenium\\webdriver\\remote\\webdriver.py:346\u001b[0m, in \u001b[0;36mWebDriver.execute\u001b[1;34m(self, driver_command, params)\u001b[0m\n\u001b[0;32m    344\u001b[0m response \u001b[39m=\u001b[39m \u001b[39mself\u001b[39m\u001b[39m.\u001b[39mcommand_executor\u001b[39m.\u001b[39mexecute(driver_command, params)\n\u001b[0;32m    345\u001b[0m \u001b[39mif\u001b[39;00m response:\n\u001b[1;32m--> 346\u001b[0m     \u001b[39mself\u001b[39;49m\u001b[39m.\u001b[39;49merror_handler\u001b[39m.\u001b[39;49mcheck_response(response)\n\u001b[0;32m    347\u001b[0m     response[\u001b[39m\"\u001b[39m\u001b[39mvalue\u001b[39m\u001b[39m\"\u001b[39m] \u001b[39m=\u001b[39m \u001b[39mself\u001b[39m\u001b[39m.\u001b[39m_unwrap_value(response\u001b[39m.\u001b[39mget(\u001b[39m\"\u001b[39m\u001b[39mvalue\u001b[39m\u001b[39m\"\u001b[39m, \u001b[39mNone\u001b[39;00m))\n\u001b[0;32m    348\u001b[0m     \u001b[39mreturn\u001b[39;00m response\n",
      "File \u001b[1;32mc:\\Users\\Shahz\\AppData\\Local\\Programs\\Python\\Python310\\lib\\site-packages\\selenium\\webdriver\\remote\\errorhandler.py:229\u001b[0m, in \u001b[0;36mErrorHandler.check_response\u001b[1;34m(self, response)\u001b[0m\n\u001b[0;32m    227\u001b[0m         alert_text \u001b[39m=\u001b[39m value[\u001b[39m\"\u001b[39m\u001b[39malert\u001b[39m\u001b[39m\"\u001b[39m]\u001b[39m.\u001b[39mget(\u001b[39m\"\u001b[39m\u001b[39mtext\u001b[39m\u001b[39m\"\u001b[39m)\n\u001b[0;32m    228\u001b[0m     \u001b[39mraise\u001b[39;00m exception_class(message, screen, stacktrace, alert_text)  \u001b[39m# type: ignore[call-arg]  # mypy is not smart enough here\u001b[39;00m\n\u001b[1;32m--> 229\u001b[0m \u001b[39mraise\u001b[39;00m exception_class(message, screen, stacktrace)\n",
      "\u001b[1;31mWebDriverException\u001b[0m: Message: unknown error: result.webdriverValue.value list is missing or empty in Runtime.callFunctionOn response\n  (Session info: chrome=119.0.6045.160)\nStacktrace:\n\tGetHandleVerifier [0x00007FF78FCD8EF2+54786]\n\t(No symbol) [0x00007FF78FC45612]\n\t(No symbol) [0x00007FF78FAFA64B]\n\t(No symbol) [0x00007FF78FAFEEC1]\n\t(No symbol) [0x00007FF78FB0115F]\n\t(No symbol) [0x00007FF78FB01250]\n\t(No symbol) [0x00007FF78FB3B424]\n\t(No symbol) [0x00007FF78FB3B91C]\n\t(No symbol) [0x00007FF78FB76DB7]\n\t(No symbol) [0x00007FF78FB5BEAF]\n\t(No symbol) [0x00007FF78FB74D02]\n\t(No symbol) [0x00007FF78FB5BC43]\n\t(No symbol) [0x00007FF78FB30941]\n\t(No symbol) [0x00007FF78FB31B84]\n\tGetHandleVerifier [0x00007FF790027F52+3524194]\n\tGetHandleVerifier [0x00007FF79007D800+3874576]\n\tGetHandleVerifier [0x00007FF790075D7F+3843215]\n\tGetHandleVerifier [0x00007FF78FD75086+694166]\n\t(No symbol) [0x00007FF78FC50A88]\n\t(No symbol) [0x00007FF78FC4CA94]\n\t(No symbol) [0x00007FF78FC4CBC2]\n\t(No symbol) [0x00007FF78FC3CC83]\n\tBaseThreadInitThunk [0x00007FFFD7DF257D+29]\n\tRtlUserThreadStart [0x00007FFFD9C4AA58+40]\n"
     ]
    }
   ],
   "source": [
    "from selenium import webdriver\n",
    "from selenium.webdriver.common.keys import Keys\n",
    "from selenium.webdriver.common.by import By\n",
    "from selenium.webdriver.chrome.service import Service as ChromeService\n",
    "from selenium.webdriver.common.action_chains import ActionChains\n",
    "from selenium.webdriver.common.by import By\n",
    "def extract(page):\n",
    "    # Set up the ChromeDriver path (you need to download chromedriver and specify its path)\n",
    "    chrome_path = \"D:/Semester 2/Programming For AI(python)/New folder/Chrome driver/chromedriver-win64/chromedriver.exe\"  # Replace with the actual path to chromedriver\n",
    "    service = ChromeService(chrome_path)\n",
    "    \n",
    "    # Start the WebDriver and open the URL\n",
    "    driver = webdriver.Chrome(service=service)\n",
    "    url = f'https://pk.indeed.com/jobs?q=AI%2FML+Engineer&pp=gQAAAAAAAAAAAAAAAAACF5B0cgADAAABAAA&vjk=636f2a098645e136'\n",
    "    driver.get(url)\n",
    "\n",
    "    # If you want to interact with the page (e.g., scroll down to load more results), you can use the following example:\n",
    "    # ActionChains(driver).send_keys(Keys.PAGE_DOWN).perform()\n",
    "\n",
    "    # You may need to add some sleep time here to wait for the page to load if needed.\n",
    "    # For example: time.sleep(2)\n",
    "\n",
    "    return driver\n",
    "\n",
    "\n",
    "\n",
    "def transform(driver):\n",
    "    # Find elements with the class name \"job_seen_beacon\" within div tags\n",
    "    elements = driver.find_elements(By.XPATH, '/html/body/main/div/div[1]/div/div[5]/div[1]/div[5]/div/ul/li[1]/div/div[1]/div/div[1]/div')\n",
    "    \n",
    "    for element in elements:\n",
    "        print(element.text)\n",
    "\n",
    "    return len(elements)\n",
    "\n",
    "# Extract data using Selenium\n",
    "driver = extract(0)\n",
    "\n",
    "# Transform data using Selenium\n",
    "print(transform(driver))\n",
    "\n",
    "# Close the browser window\n",
    "driver.quit()\n"
   ]
  }
 ],
 "metadata": {
  "kernelspec": {
   "display_name": "Python 3",
   "language": "python",
   "name": "python3"
  },
  "language_info": {
   "codemirror_mode": {
    "name": "ipython",
    "version": 3
   },
   "file_extension": ".py",
   "mimetype": "text/x-python",
   "name": "python",
   "nbconvert_exporter": "python",
   "pygments_lexer": "ipython3",
   "version": "3.10.7"
  }
 },
 "nbformat": 4,
 "nbformat_minor": 2
}
